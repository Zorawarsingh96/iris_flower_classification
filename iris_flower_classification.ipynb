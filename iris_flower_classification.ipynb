{
 "cells": [
  {
   "cell_type": "code",
   "execution_count": null,
   "metadata": {},
   "outputs": [],
   "source": [
    "from sklearn.datasets import load_iris\n",
    "import numpy as np\n",
    "import pandas as pd\n",
    "from sklearn import tree\n",
    "from sklearn.ensemble import RandomForestClassifier"
   ]
  },
  {
   "cell_type": "code",
   "execution_count": 6,
   "metadata": {},
   "outputs": [
    {
     "output_type": "error",
     "ename": "ValueError",
     "evalue": "could not convert string to float: ",
     "traceback": [
      "\u001b[1;31m---------------------------------------------------------------------------\u001b[0m",
      "\u001b[1;31mValueError\u001b[0m                                Traceback (most recent call last)",
      "\u001b[1;32m<ipython-input-6-c10b0a9515c5>\u001b[0m in \u001b[0;36m<module>\u001b[1;34m\u001b[0m\n\u001b[0;32m     38\u001b[0m \u001b[0mrf\u001b[0m\u001b[1;33m.\u001b[0m\u001b[0mfit\u001b[0m\u001b[1;33m(\u001b[0m\u001b[0mdata\u001b[0m\u001b[1;33m,\u001b[0m \u001b[0mtarget\u001b[0m\u001b[1;33m)\u001b[0m\u001b[1;33m\u001b[0m\u001b[1;33m\u001b[0m\u001b[0m\n\u001b[0;32m     39\u001b[0m \u001b[1;33m\u001b[0m\u001b[0m\n\u001b[1;32m---> 40\u001b[1;33m \u001b[0md1\u001b[0m \u001b[1;33m=\u001b[0m \u001b[0mfloat\u001b[0m\u001b[1;33m(\u001b[0m\u001b[0minput\u001b[0m\u001b[1;33m(\u001b[0m\u001b[1;34m\"Enter sepal length : \"\u001b[0m\u001b[1;33m)\u001b[0m\u001b[1;33m)\u001b[0m\u001b[1;33m\u001b[0m\u001b[1;33m\u001b[0m\u001b[0m\n\u001b[0m\u001b[0;32m     41\u001b[0m \u001b[0md2\u001b[0m \u001b[1;33m=\u001b[0m \u001b[0mfloat\u001b[0m\u001b[1;33m(\u001b[0m\u001b[0minput\u001b[0m\u001b[1;33m(\u001b[0m\u001b[1;34m\"Enter sepal width : \"\u001b[0m\u001b[1;33m)\u001b[0m\u001b[1;33m)\u001b[0m\u001b[1;33m\u001b[0m\u001b[1;33m\u001b[0m\u001b[0m\n\u001b[0;32m     42\u001b[0m \u001b[0md3\u001b[0m \u001b[1;33m=\u001b[0m \u001b[0mfloat\u001b[0m\u001b[1;33m(\u001b[0m\u001b[0minput\u001b[0m\u001b[1;33m(\u001b[0m\u001b[1;34m\"Enter petal length : \"\u001b[0m\u001b[1;33m)\u001b[0m\u001b[1;33m)\u001b[0m\u001b[1;33m\u001b[0m\u001b[1;33m\u001b[0m\u001b[0m\n",
      "\u001b[1;31mValueError\u001b[0m: could not convert string to float: "
     ]
    }
   ],
   "source": [
    "def GetFlowerType(num):\n",
    "   for i in num:\n",
    "        if(i == 0):\n",
    "            print(\"setosa\")\n",
    "        elif(i == 1):\n",
    "            print(\"versicolor\")\n",
    "        else:\n",
    "            print(\"virginica\")\n",
    "\n",
    "def GetFlowerTypeFromDecisionTree(num):\n",
    "    for i in num:\n",
    "        if(i == 0):\n",
    "            print(\"setosa\")\n",
    "        elif(i == 1):\n",
    "            print(\"versicolor\")\n",
    "        else:\n",
    "            print(\"virginica\")\n",
    "           \n",
    "            \n",
    "iris_data = load_iris()\n",
    "test_ids = []\n",
    "\n",
    "for i in range(0, 20):\n",
    "    test_ids.append(i)\n",
    "for i in range(50, 70):\n",
    "    test_ids.append(i)\n",
    "for i in range(100, 120):\n",
    "    test_ids.append(i)\n",
    "    \n",
    "#Tranning Data\n",
    "data = np.delete(iris_data.data, test_ids, axis=0)\n",
    "target = np.delete(iris_data.target, test_ids)\n",
    "\n",
    "clf = tree.DecisionTreeClassifier()\n",
    "clf.fit(data, target)\n",
    "\n",
    "rf = RandomForestClassifier()\n",
    "rf.fit(data, target)\n",
    "\n",
    "d1 = float(input(\"Enter sepal length : \"))\n",
    "d2 = float(input(\"Enter sepal width : \"))\n",
    "d3 = float(input(\"Enter petal length : \"))\n",
    "d4 = float(input(\"Enter petal width : \"))\n",
    "\n",
    "data = [[d1,d2,d3,d4]]\n",
    "\n",
    "GetFlowerType(rf.predict(data))\n",
    "GetFlowerTypeFromDecisionTree(clf.predict(data))"
   ]
  }
 ],
 "metadata": {
  "kernelspec": {
   "display_name": "Python 3",
   "language": "python",
   "name": "python3"
  }
 },
 "nbformat": 4,
 "nbformat_minor": 4
}