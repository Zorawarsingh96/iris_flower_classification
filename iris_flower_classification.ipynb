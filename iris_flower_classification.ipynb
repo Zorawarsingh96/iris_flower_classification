{
 "cells": [
  {
   "cell_type": "code",
   "execution_count": 11,
   "metadata": {},
   "outputs": [],
   "source": [
    "from sklearn.datasets import load_iris\n",
    "import numpy as np\n",
    "import pandas as pd\n",
    "from sklearn import tree\n",
    "from sklearn.ensemble import RandomForestClassifier\n",
    "from sklearn.linear_model import LinearRegression"
   ]
  },
  {
   "cell_type": "code",
   "execution_count": 14,
   "metadata": {},
   "outputs": [
    {
     "output_type": "stream",
     "name": "stdout",
     "text": [
      "According To Decision Tree It's Versicolor\n"
     ]
    }
   ],
   "source": [
    "def GetFlowerType(num):\n",
    "   for i in num:\n",
    "        if(i == 0):\n",
    "            print(\"According To Random forest it's Setosa\")\n",
    "        elif(i == 1):\n",
    "            print(\"According To Random forest it's Versicolor\")\n",
    "        else:\n",
    "            print(\"According To Random forest it's Virginica\")\n",
    "\n",
    "def GetFlowerTypeFromDecisionTree(num):\n",
    "    for i in num:\n",
    "        if(i == 0):\n",
    "            print(\"According To Decision Tree It's Setosa\")\n",
    "        elif(i == 1):\n",
    "            print(\"According To Decision Tree It's Versicolor\")\n",
    "        else:\n",
    "            print(\"According To Decision Tree It's Virginica\")\n",
    "def GetFlowerTypeLinear(num):\n",
    "    for i in num:\n",
    "        if(i == 0):\n",
    "            print(\"According To Linear Regression It's Setosa\")\n",
    "        elif(i == 1):\n",
    "            print(\"According To Linear Regression It's Versicolor\")\n",
    "        else:\n",
    "            print(\"According To Linear Regression It's Virginica\")\n",
    "           \n",
    "            \n",
    "iris_data = load_iris()\n",
    "test_x = []\n",
    "\n",
    "for i in range(0, 20):\n",
    "    test_x.append(i)\n",
    "for i in range(50, 70):\n",
    "    test_x.append(i)\n",
    "for i in range(100, 120):\n",
    "    test_x.append(i)\n",
    "    \n",
    "data = np.delete(iris_data.data, test_x, axis=0)\n",
    "target = np.delete(iris_data.target, test_x)\n",
    "\n",
    "dtc = tree.DecisionTreeClassifier()\n",
    "dtc.fit(data, target)\n",
    "\n",
    "rf = RandomForestClassifier()\n",
    "rf.fit(data, target)\n",
    "\n",
    "linr = LinearRegression()\n",
    "linr.fit(data, target)\n",
    "\n",
    "d1 = float(input(\"Enter sepal length : \"))\n",
    "d2 = float(input(\"Enter sepal width : \"))\n",
    "d3 = float(input(\"Enter petal length : \"))\n",
    "d4 = float(input(\"Enter petal width : \"))\n",
    "\n",
    "data = [[d1,d2,d3,d4]]\n",
    "\n",
    "choice = int(input(\"Enter Your Choice \\n1.Random forest \\n2.Decision Tree\"))\n",
    "if(choice == 1):\n",
    "    GetFlowerType(rf.predict(data))\n",
    "elif(choice == 2):\n",
    "    GetFlowerTypeFromDecisionTree(dtc.predict(data))\n",
    "elif(choice == 3):\n",
    "    GetFlowerTypeLinear(linr.predict(data))\n",
    "else:\n",
    "    print(\"Wrong One Please select 1 or 2\")"
   ]
  }
 ],
 "metadata": {
  "kernelspec": {
   "display_name": "Python 3",
   "language": "python",
   "name": "python3"
  }
 },
 "nbformat": 4,
 "nbformat_minor": 4
}