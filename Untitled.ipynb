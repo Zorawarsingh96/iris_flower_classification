{
 "cells": [
  {
   "cell_type": "code",
   "execution_count": 35,
   "metadata": {},
   "outputs": [],
   "source": [
    "from sklearn.datasets import load_iris\n",
    "from sklearn.neighbors import KNeighborsClassifier\n",
    "import numpy as np\n",
    "import pandas as pd\n",
    "from sklearn import tree\n",
    "from sklearn.ensemble import RandomForestClassifier"
   ]
  },
  {
   "cell_type": "code",
   "execution_count": 40,
   "metadata": {},
   "outputs": [
    {
     "name": "stdout",
     "output_type": "stream",
     "text": [
      "Enter sepal length : 1\n",
      "Enter sepal width : 1\n",
      "Enter petal length : 1\n",
      "Enter petal width : 1\n",
      "setosa\n",
      "[0]\n",
      "[0]\n"
     ]
    }
   ],
   "source": [
    "def GetFlowerType(num):\n",
    "   for i in num:\n",
    "        if(i == 0):\n",
    "            print(\"setosa\")\n",
    "        elif(i == 1):\n",
    "            print(\"versicolor\")\n",
    "        else:\n",
    "            print(\"virginica\")\n",
    "\n",
    "            \n",
    "            \n",
    "            \n",
    "iris_data = load_iris()\n",
    "test_ids = []\n",
    "\n",
    "for i in range(0, 20):\n",
    "    test_ids.append(i)\n",
    "for i in range(50, 70):\n",
    "    test_ids.append(i)\n",
    "for i in range(100, 120):\n",
    "    test_ids.append(i)\n",
    "    \n",
    "#Tranning Data\n",
    "data = np.delete(iris_data.data, test_ids, axis=0)\n",
    "target = np.delete(iris_data.target, test_ids)\n",
    "\n",
    "clf = tree.DecisionTreeClassifier()\n",
    "clf.fit(data, target)\n",
    "\n",
    "rf = RandomForestClassifier()\n",
    "rf.fit(data, target)\n",
    "\n",
    "d1 = float(input(\"Enter sepal length : \"))\n",
    "d2 = float(input(\"Enter sepal width : \"))\n",
    "d3 = float(input(\"Enter petal length : \"))\n",
    "d4 = float(input(\"Enter petal width : \"))\n",
    "\n",
    "data = [[d1,d2,d3,d4]]\n",
    "\n",
    "GetFlowerType(rf.predict(data))\n",
    "print(rf.predict(data))\n",
    "print(clf.predict(data))"
   ]
  },
  {
   "cell_type": "code",
   "execution_count": null,
   "metadata": {
    "scrolled": true
   },
   "outputs": [],
   "source": []
  },
  {
   "cell_type": "code",
   "execution_count": null,
   "metadata": {},
   "outputs": [],
   "source": []
  }
 ],
 "metadata": {
  "kernelspec": {
   "display_name": "Python 3",
   "language": "python",
   "name": "python3"
  },
  "language_info": {
   "codemirror_mode": {
    "name": "ipython",
    "version": 3
   },
   "file_extension": ".py",
   "mimetype": "text/x-python",
   "name": "python",
   "nbconvert_exporter": "python",
   "pygments_lexer": "ipython3",
   "version": "3.7.4"
  }
 },
 "nbformat": 4,
 "nbformat_minor": 4
}
